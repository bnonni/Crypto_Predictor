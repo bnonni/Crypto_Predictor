{
 "cells": [
  {
   "cell_type": "code",
   "execution_count": 3,
   "metadata": {},
   "outputs": [],
   "source": [
    "%matplotlib inline\n",
    "\n",
    "from keras.layers import Dense, LSTM, Dropout\n",
    "from keras.models import Sequential\n",
    "from keras.optimizers import RMSprop\n",
    "from sklearn.preprocessing import MinMaxScaler\n",
    "from sklearn.model_selection import train_test_split\n",
    "from url import URL\n",
    "from pymongo import *\n",
    "import statistics as stat\n",
    "import matplotlib.pyplot as plt\n",
    "\n",
    "import numpy as np\n",
    "import pandas as pd\n",
    "from time import strptime, mktime\n",
    "import gc\n",
    "import sys\n",
    "import re\n",
    "import os\n",
    "os.environ['TF_CPP_MIN_LOG_LEVEL'] = '3'\n",
    "gc.collect()\n",
    "\n",
    "client = MongoClient(URL)\n",
    "db = client.crypto_wallet"
   ]
  },
  {
   "cell_type": "code",
   "execution_count": 4,
   "metadata": {},
   "outputs": [],
   "source": [
    "def checkLen(a, b):\n",
    "    if len(a) == len(b):\n",
    "        return True\n",
    "    else:\n",
    "        return f'DB Objs:{len(a)} < Clean Arr Items:{len(b)}' if len(a) < len(b) else f'Clean Arr Items:{len(b)} < DB Objs:{len(a)}'"
   ]
  },
  {
   "cell_type": "code",
   "execution_count": 5,
   "metadata": {},
   "outputs": [],
   "source": [
    "def p(o):\n",
    "    return print(o)"
   ]
  },
  {
   "cell_type": "code",
   "execution_count": 6,
   "metadata": {},
   "outputs": [],
   "source": [
    "def filterData(coll, st, narr):\n",
    "    for obj in coll:\n",
    "        try:\n",
    "            tmp = obj.get(st)\n",
    "            narr.append(tmp)\n",
    "        except Exception as e:\n",
    "            print(e, o['_id'])\n",
    "    return narr"
   ]
  },
  {
   "cell_type": "code",
   "execution_count": 7,
   "metadata": {},
   "outputs": [],
   "source": [
    "def datetime_converter(dtstr):\n",
    "    tmstmp = strptime(dtstr, '%Y-%m-%d %H:%M:%S')\n",
    "    epoch = mktime(tmstmp)\n",
    "    return int(epoch)"
   ]
  },
  {
   "cell_type": "code",
   "execution_count": 8,
   "metadata": {},
   "outputs": [],
   "source": [
    "BTC_Tickers_Collection = db.BTC_Tickers\n",
    "BTC_Tickers_Objs = list(BTC_Tickers_Collection.find())\n",
    "BTC_epochs = []\n",
    "BTC_prices = []\n",
    "BTC_volumes = []\n",
    "BTC_highs = []\n",
    "BTC_lows = []\n",
    "for obj in BTC_Tickers_Collection.find():\n",
    "    dt = re.sub(r'\\..*', '', obj.get('time')).replace('T', ' ').rstrip('Z')\n",
    "    BTC_epochs.append(datetime_converter(dt))\n",
    "    BTC_prices.append(float(obj.get('price')))\n",
    "    BTC_volumes.append(obj.get('volume'))\n",
    "    BTC_highs.append(obj.get('ask'))\n",
    "    BTC_lows.append(obj.get('bid'))"
   ]
  },
  {
   "cell_type": "code",
   "execution_count": 9,
   "metadata": {},
   "outputs": [],
   "source": [
    "for i,e in enumerate(BTC_epochs):\n",
    "    if i == 0:\n",
    "        pass\n",
    "    else:\n",
    "        BTC_epochs[i] = BTC_epochs[i-1]+ 60"
   ]
  },
  {
   "cell_type": "code",
   "execution_count": 10,
   "metadata": {},
   "outputs": [
    {
     "name": "stdout",
     "output_type": "stream",
     "text": [
      "True\n",
      "True\n",
      "True\n",
      "True\n",
      "True\n"
     ]
    }
   ],
   "source": [
    "p(checkLen(BTC_Tickers_Objs, BTC_prices))\n",
    "p(checkLen(BTC_epochs, BTC_prices))\n",
    "p(checkLen(BTC_Tickers_Objs, BTC_volumes))\n",
    "p(checkLen(BTC_Tickers_Objs, BTC_highs))\n",
    "p(checkLen(BTC_Tickers_Objs, BTC_lows))"
   ]
  },
  {
   "cell_type": "code",
   "execution_count": 11,
   "metadata": {},
   "outputs": [],
   "source": [
    "BTC_RSI_Collection = db.BTC_RSI14_Data\n",
    "BTC_RSI_Objs = list(BTC_RSI_Collection.find())\n",
    "BTC_RSIs = []\n",
    "Errors = []\n",
    "for rsio in BTC_RSI_Collection.find():\n",
    "    RSI = rsio.get('RSI')\n",
    "    try:\n",
    "        if type(RSI) == float:\n",
    "            BTC_RSIs.append(int(RSI))\n",
    "        elif type(RSI) == list:\n",
    "            if RSI[0] == None:\n",
    "                pass\n",
    "            else:\n",
    "                BTC_RSIs.append(int(stat.mean(RSI)))\n",
    "        else:\n",
    "            BTC_RSIs.append(RSI)\n",
    "    except Exception as e:\n",
    "        Errors.append(rsio['_id'])\n",
    "        print(e, rsio['_id'])\n",
    "        sys.exit(1)"
   ]
  },
  {
   "cell_type": "code",
   "execution_count": 12,
   "metadata": {},
   "outputs": [],
   "source": [
    "if len(Errors) > 0:\n",
    "    print(Errors)"
   ]
  },
  {
   "cell_type": "code",
   "execution_count": 13,
   "metadata": {},
   "outputs": [
    {
     "name": "stdout",
     "output_type": "stream",
     "text": [
      "Clean Arr Items:134319 < DB Objs:136936\n"
     ]
    }
   ],
   "source": [
    "p(checkLen(BTC_RSI_Objs, BTC_RSIs))"
   ]
  },
  {
   "cell_type": "code",
   "execution_count": 14,
   "metadata": {},
   "outputs": [],
   "source": [
    "BTC_ADL_Collection = db.BTC_ADL_Data\n",
    "BTC_ADL_Objs = list(BTC_ADL_Collection.find())\n",
    "BTC_ADLs = []\n",
    "BTC_ADL_slope = []\n",
    "for o in BTC_ADL_Collection.find():\n",
    "    ADL = o.get('ADL')\n",
    "    slope = o.get('slope')\n",
    "    try:\n",
    "        if type(ADL) == float:\n",
    "            BTC_ADLs.append(int(ADL))\n",
    "        elif type(ADL) == list:\n",
    "            BTC_ADLs.append(int(stat.mean(ADL)))\n",
    "        else:\n",
    "            BTC_ADLs.append(ADL)\n",
    "        if type(slope) == int:\n",
    "            BTC_ADL_slope.append(float(slope))\n",
    "        elif type(slope) == list:\n",
    "            BTC_ADL_slope.append(int(stat.mean(slope)))\n",
    "        else:\n",
    "            BTC_ADL_slope.append(slope)\n",
    "    except Exception as e:\n",
    "        print(e, o['_id'])\n",
    "        sys.exit(1)"
   ]
  },
  {
   "cell_type": "code",
   "execution_count": 15,
   "metadata": {},
   "outputs": [
    {
     "name": "stdout",
     "output_type": "stream",
     "text": [
      "True\n",
      "True\n"
     ]
    }
   ],
   "source": [
    "p(checkLen(BTC_ADL_Objs, BTC_ADLs))\n",
    "\n",
    "p(checkLen(BTC_ADL_slope, BTC_ADLs))"
   ]
  },
  {
   "cell_type": "code",
   "execution_count": 16,
   "metadata": {},
   "outputs": [],
   "source": [
    "BTC_OBV_Collection = db.BTC_OBV_Data\n",
    "BTC_OBV_Objs = list(BTC_OBV_Collection.find())\n",
    "BTC_OBVs = []\n",
    "BTC_OBV_slope = []\n",
    "for o in BTC_OBV_Collection.find():\n",
    "    OBV = o.get('OBV')\n",
    "    slope = o.get('slope')\n",
    "    try:\n",
    "        if type(OBV) == float:\n",
    "            BTC_OBVs.append(int(OBV))\n",
    "        elif type(OBV) == list:\n",
    "            BTC_OBVs.append(int(stat.mean(OBV)))\n",
    "        else:\n",
    "            BTC_OBVs.append(ADL)\n",
    "        if type(slope) == int:\n",
    "            BTC_OBV_slope.append(float(slope))\n",
    "        elif type(slope) == list:\n",
    "            BTC_ADL_slope.append(int(stat.mean(slope)))\n",
    "        else:\n",
    "            BTC_OBV_slope.append(slope)\n",
    "    except Exception as e:\n",
    "        print(e, o['_id'])\n",
    "        sys.exit(1)"
   ]
  },
  {
   "cell_type": "code",
   "execution_count": 17,
   "metadata": {},
   "outputs": [
    {
     "name": "stdout",
     "output_type": "stream",
     "text": [
      "True\n",
      "True\n"
     ]
    }
   ],
   "source": [
    "p(checkLen(BTC_OBV_Objs, BTC_OBVs))\n",
    "p(checkLen(BTC_OBV_slope, BTC_OBVs))"
   ]
  },
  {
   "cell_type": "code",
   "execution_count": 18,
   "metadata": {},
   "outputs": [
    {
     "name": "stdout",
     "output_type": "stream",
     "text": [
      "datetime: 143162\n",
      "prices: 143162\n",
      "Volumes: 134319\n",
      "Highs: 134319\n",
      "Lows: 134319\n",
      "RSI: 134319\n",
      "ADL_slp: 98852\n",
      "OBV_slp: 98864\n"
     ]
    }
   ],
   "source": [
    "print(f'datetime: {len(BTC_epochs)}\\nprices: {len(BTC_prices)}')\n",
    "collection_lengths = [len(BTC_volumes), len(BTC_highs), len(BTC_lows), len(BTC_ADLs), len(BTC_ADL_slope), len(BTC_OBVs), len(BTC_OBV_slope)]\n",
    "print(f'Volumes: {len(BTC_RSIs)}\\nHighs: {len(BTC_RSIs)}\\nLows: {len(BTC_RSIs)}\\nRSI: {len(BTC_RSIs)}\\nADL_slp: {len(BTC_ADL_slope)}\\nOBV_slp: {len(BTC_OBV_slope)}')"
   ]
  },
  {
   "cell_type": "code",
   "execution_count": 19,
   "metadata": {},
   "outputs": [],
   "source": [
    "min = collection_lengths[0]\n",
    "for i in range(1, len(collection_lengths)):\n",
    "    if collection_lengths[i] < min:\n",
    "        min = collection_lengths[i]"
   ]
  },
  {
   "cell_type": "code",
   "execution_count": 20,
   "metadata": {},
   "outputs": [],
   "source": [
    "# BTC_Data = { 'Datetime': BTC_dt_epochs[0:min], 'Prices': BTC_prices[0:min], 'High': BTC_highs[0:min], 'Low': BTC_lows[0:min] }\n",
    "\n",
    "BTC_Data = { 'Datetime': BTC_epochs[0:min], \n",
    "             'Prices': BTC_prices[0:min], \n",
    "             'Volumes':BTC_volumes[0:min],\n",
    "             'High':BTC_highs[0:min], \n",
    "             'Low':BTC_lows[0:min],\n",
    "             'RSI': BTC_RSIs[0:min],\n",
    "             'ADL' : BTC_ADLs[0:min],\n",
    "             'ADL_slope': BTC_ADL_slope[0:min],\n",
    "             'OBV' : BTC_OBVs[0:min],\n",
    "             'OBV_slope': BTC_OBV_slope[0:min] }"
   ]
  },
  {
   "cell_type": "code",
   "execution_count": 21,
   "metadata": {},
   "outputs": [
    {
     "name": "stdout",
     "output_type": "stream",
     "text": [
      "Datetime: 98852\n",
      "Prices: 98852\n",
      "Volumes: 98852\n",
      "High: 98852\n",
      "Low: 98852\n",
      "RSI: 98852\n",
      "ADL: 98852\n",
      "ADL_slope: 98852\n",
      "OBV: 98852\n",
      "OBV_slope: 98852\n"
     ]
    }
   ],
   "source": [
    "keys = BTC_Data.keys()\n",
    "for k in keys:\n",
    "    print(f'{k}: {len(BTC_Data[k])}')"
   ]
  },
  {
   "cell_type": "code",
   "execution_count": 22,
   "metadata": {},
   "outputs": [
    {
     "data": {
      "text/html": [
       "<div>\n",
       "<style scoped>\n",
       "    .dataframe tbody tr th:only-of-type {\n",
       "        vertical-align: middle;\n",
       "    }\n",
       "\n",
       "    .dataframe tbody tr th {\n",
       "        vertical-align: top;\n",
       "    }\n",
       "\n",
       "    .dataframe thead th {\n",
       "        text-align: right;\n",
       "    }\n",
       "</style>\n",
       "<table border=\"1\" class=\"dataframe\">\n",
       "  <thead>\n",
       "    <tr style=\"text-align: right;\">\n",
       "      <th></th>\n",
       "      <th>Datetime</th>\n",
       "      <th>Prices</th>\n",
       "      <th>Volumes</th>\n",
       "      <th>High</th>\n",
       "      <th>Low</th>\n",
       "      <th>RSI</th>\n",
       "      <th>ADL</th>\n",
       "      <th>ADL_slope</th>\n",
       "      <th>OBV</th>\n",
       "      <th>OBV_slope</th>\n",
       "    </tr>\n",
       "  </thead>\n",
       "  <tbody>\n",
       "    <tr>\n",
       "      <th>0</th>\n",
       "      <td>1560575162</td>\n",
       "      <td>8644.08</td>\n",
       "      <td>13197.70190687</td>\n",
       "      <td>8644.86</td>\n",
       "      <td>8640.43</td>\n",
       "      <td>15.0</td>\n",
       "      <td>5203</td>\n",
       "      <td>-0.092510</td>\n",
       "      <td>8</td>\n",
       "      <td>-0.000454</td>\n",
       "    </tr>\n",
       "    <tr>\n",
       "      <th>1</th>\n",
       "      <td>1560575222</td>\n",
       "      <td>8644.08</td>\n",
       "      <td>13197.70190687</td>\n",
       "      <td>8644.87</td>\n",
       "      <td>8640.5</td>\n",
       "      <td>15.0</td>\n",
       "      <td>10443</td>\n",
       "      <td>2.008249</td>\n",
       "      <td>5130</td>\n",
       "      <td>-0.092510</td>\n",
       "    </tr>\n",
       "    <tr>\n",
       "      <th>2</th>\n",
       "      <td>1560575282</td>\n",
       "      <td>8646.01</td>\n",
       "      <td>13197.70190687</td>\n",
       "      <td>8646.01</td>\n",
       "      <td>8646</td>\n",
       "      <td>10.0</td>\n",
       "      <td>16145</td>\n",
       "      <td>1.985836</td>\n",
       "      <td>-5706</td>\n",
       "      <td>0.010063</td>\n",
       "    </tr>\n",
       "    <tr>\n",
       "      <th>3</th>\n",
       "      <td>1560575342</td>\n",
       "      <td>8646.01</td>\n",
       "      <td>13200.91076417</td>\n",
       "      <td>8646.01</td>\n",
       "      <td>8646</td>\n",
       "      <td>9.0</td>\n",
       "      <td>9647</td>\n",
       "      <td>6.193095</td>\n",
       "      <td>5378</td>\n",
       "      <td>-0.003326</td>\n",
       "    </tr>\n",
       "    <tr>\n",
       "      <th>4</th>\n",
       "      <td>1560575402</td>\n",
       "      <td>8635.99</td>\n",
       "      <td>13200.91076417</td>\n",
       "      <td>8635.37</td>\n",
       "      <td>8634.36</td>\n",
       "      <td>9.0</td>\n",
       "      <td>-4861</td>\n",
       "      <td>0.818087</td>\n",
       "      <td>10819</td>\n",
       "      <td>2.000370</td>\n",
       "    </tr>\n",
       "  </tbody>\n",
       "</table>\n",
       "</div>"
      ],
      "text/plain": [
       "     Datetime   Prices         Volumes     High      Low   RSI    ADL  \\\n",
       "0  1560575162  8644.08  13197.70190687  8644.86  8640.43  15.0   5203   \n",
       "1  1560575222  8644.08  13197.70190687  8644.87   8640.5  15.0  10443   \n",
       "2  1560575282  8646.01  13197.70190687  8646.01     8646  10.0  16145   \n",
       "3  1560575342  8646.01  13200.91076417  8646.01     8646   9.0   9647   \n",
       "4  1560575402  8635.99  13200.91076417  8635.37  8634.36   9.0  -4861   \n",
       "\n",
       "   ADL_slope    OBV  OBV_slope  \n",
       "0  -0.092510      8  -0.000454  \n",
       "1   2.008249   5130  -0.092510  \n",
       "2   1.985836  -5706   0.010063  \n",
       "3   6.193095   5378  -0.003326  \n",
       "4   0.818087  10819   2.000370  "
      ]
     },
     "execution_count": 22,
     "metadata": {},
     "output_type": "execute_result"
    }
   ],
   "source": [
    "BTC_df = pd.DataFrame(BTC_Data)\n",
    "BTC_df.head()"
   ]
  },
  {
   "cell_type": "code",
   "execution_count": 23,
   "metadata": {},
   "outputs": [
    {
     "data": {
      "image/png": "[encoded data removed]",
      "text/plain": [
       "<Figure size 432x288 with 1 Axes>"
      ]
     },
     "metadata": {
      "needs_background": "light"
     },
     "output_type": "display_data"
    }
   ],
   "source": [
    "x = BTC_df.Datetime\n",
    "y = BTC_df.Prices\n",
    "plt.plot(x, y)\n",
    "plt.show()"
   ]
  },
  {
   "cell_type": "code",
   "execution_count": 77,
   "metadata": {},
   "outputs": [],
   "source": [
    "BTC_df['High'] = BTC_df.High.astype('float64')\n",
    "BTC_df['Low'] = BTC_df.Low.astype('float64')\n",
    "BTC_df['Volumes'] = BTC_df.Volumes.astype('float64')"
   ]
  },
  {
   "cell_type": "code",
   "execution_count": 78,
   "metadata": {},
   "outputs": [],
   "source": [
    "ADL_avg = BTC_df.ADL.mean()\n",
    "RSI_avg = BTC_df.RSI.mean()\n",
    "ADL_slp_avg = BTC_df.ADL_slope.mean()\n",
    "OBV_slp_avg = BTC_df.OBV_slope.mean()"
   ]
  },
  {
   "cell_type": "code",
   "execution_count": 79,
   "metadata": {},
   "outputs": [
    {
     "data": {
      "text/html": [
       "<div>\n",
       "<style scoped>\n",
       "    .dataframe tbody tr th:only-of-type {\n",
       "        vertical-align: middle;\n",
       "    }\n",
       "\n",
       "    .dataframe tbody tr th {\n",
       "        vertical-align: top;\n",
       "    }\n",
       "\n",
       "    .dataframe thead th {\n",
       "        text-align: right;\n",
       "    }\n",
       "</style>\n",
       "<table border=\"1\" class=\"dataframe\">\n",
       "  <thead>\n",
       "    <tr style=\"text-align: right;\">\n",
       "      <th></th>\n",
       "      <th>Datetime</th>\n",
       "      <th>Prices</th>\n",
       "      <th>Volumes</th>\n",
       "      <th>High</th>\n",
       "      <th>Low</th>\n",
       "      <th>RSI</th>\n",
       "      <th>ADL</th>\n",
       "      <th>ADL_slope</th>\n",
       "      <th>OBV</th>\n",
       "      <th>OBV_slope</th>\n",
       "    </tr>\n",
       "  </thead>\n",
       "  <tbody>\n",
       "    <tr>\n",
       "      <th>0</th>\n",
       "      <td>1560575162</td>\n",
       "      <td>8644.08</td>\n",
       "      <td>13197.701907</td>\n",
       "      <td>8644.86</td>\n",
       "      <td>8640.43</td>\n",
       "      <td>15.0</td>\n",
       "      <td>5203</td>\n",
       "      <td>-0.092510</td>\n",
       "      <td>8</td>\n",
       "      <td>-0.000454</td>\n",
       "    </tr>\n",
       "    <tr>\n",
       "      <th>1</th>\n",
       "      <td>1560575222</td>\n",
       "      <td>8644.08</td>\n",
       "      <td>13197.701907</td>\n",
       "      <td>8644.87</td>\n",
       "      <td>8640.50</td>\n",
       "      <td>15.0</td>\n",
       "      <td>10443</td>\n",
       "      <td>2.008249</td>\n",
       "      <td>5130</td>\n",
       "      <td>-0.092510</td>\n",
       "    </tr>\n",
       "    <tr>\n",
       "      <th>2</th>\n",
       "      <td>1560575282</td>\n",
       "      <td>8646.01</td>\n",
       "      <td>13197.701907</td>\n",
       "      <td>8646.01</td>\n",
       "      <td>8646.00</td>\n",
       "      <td>10.0</td>\n",
       "      <td>16145</td>\n",
       "      <td>1.985836</td>\n",
       "      <td>-5706</td>\n",
       "      <td>0.010063</td>\n",
       "    </tr>\n",
       "    <tr>\n",
       "      <th>3</th>\n",
       "      <td>1560575342</td>\n",
       "      <td>8646.01</td>\n",
       "      <td>13200.910764</td>\n",
       "      <td>8646.01</td>\n",
       "      <td>8646.00</td>\n",
       "      <td>9.0</td>\n",
       "      <td>9647</td>\n",
       "      <td>6.193095</td>\n",
       "      <td>5378</td>\n",
       "      <td>-0.003326</td>\n",
       "    </tr>\n",
       "    <tr>\n",
       "      <th>4</th>\n",
       "      <td>1560575402</td>\n",
       "      <td>8635.99</td>\n",
       "      <td>13200.910764</td>\n",
       "      <td>8635.37</td>\n",
       "      <td>8634.36</td>\n",
       "      <td>9.0</td>\n",
       "      <td>-4861</td>\n",
       "      <td>0.818087</td>\n",
       "      <td>10819</td>\n",
       "      <td>2.000370</td>\n",
       "    </tr>\n",
       "  </tbody>\n",
       "</table>\n",
       "</div>"
      ],
      "text/plain": [
       "     Datetime   Prices       Volumes     High      Low   RSI    ADL  \\\n",
       "0  1560575162  8644.08  13197.701907  8644.86  8640.43  15.0   5203   \n",
       "1  1560575222  8644.08  13197.701907  8644.87  8640.50  15.0  10443   \n",
       "2  1560575282  8646.01  13197.701907  8646.01  8646.00  10.0  16145   \n",
       "3  1560575342  8646.01  13200.910764  8646.01  8646.00   9.0   9647   \n",
       "4  1560575402  8635.99  13200.910764  8635.37  8634.36   9.0  -4861   \n",
       "\n",
       "   ADL_slope    OBV  OBV_slope  \n",
       "0  -0.092510      8  -0.000454  \n",
       "1   2.008249   5130  -0.092510  \n",
       "2   1.985836  -5706   0.010063  \n",
       "3   6.193095   5378  -0.003326  \n",
       "4   0.818087  10819   2.000370  "
      ]
     },
     "execution_count": 79,
     "metadata": {},
     "output_type": "execute_result"
    }
   ],
   "source": [
    "values = {'OBV_slope': OBV_slp_avg, 'RSI': RSI_avg }\n",
    "BTC_df = BTC_df.fillna(value=values)\n",
    "BTC_df.head()"
   ]
  },
  {
   "cell_type": "code",
   "execution_count": 80,
   "metadata": {},
   "outputs": [
    {
     "name": "stdout",
     "output_type": "stream",
     "text": [
      "<class 'pandas.core.frame.DataFrame'>\n",
      "RangeIndex: 98852 entries, 0 to 98851\n",
      "Data columns (total 10 columns):\n",
      "Datetime     98852 non-null int64\n",
      "Prices       98852 non-null float64\n",
      "Volumes      98852 non-null float64\n",
      "High         98852 non-null float64\n",
      "Low          98852 non-null float64\n",
      "RSI          98852 non-null float64\n",
      "ADL          98852 non-null int64\n",
      "ADL_slope    98852 non-null float64\n",
      "OBV          98852 non-null int64\n",
      "OBV_slope    98852 non-null float64\n",
      "dtypes: float64(7), int64(3)\n",
      "memory usage: 7.5 MB\n"
     ]
    }
   ],
   "source": [
    "BTC_df.info()"
   ]
  },
  {
   "cell_type": "code",
   "execution_count": 81,
   "metadata": {},
   "outputs": [],
   "source": [
    "np.random.seed(42)"
   ]
  },
  {
   "cell_type": "code",
   "execution_count": 88,
   "metadata": {},
   "outputs": [
    {
     "name": "stdout",
     "output_type": "stream",
     "text": [
      "(98852, 2)\n",
      "(98852,)\n"
     ]
    }
   ],
   "source": [
    "X = BTC_df[['High', 'Low']].values\n",
    "y = BTC_df['Prices'].values\n",
    "print(X.shape)\n",
    "print(y.shape)"
   ]
  },
  {
   "cell_type": "code",
   "execution_count": 89,
   "metadata": {},
   "outputs": [],
   "source": [
    "X_train, X_test, y_train, y_test = train_test_split(X, y, test_size=0.2, random_state=1)"
   ]
  },
  {
   "cell_type": "code",
   "execution_count": null,
   "metadata": {},
   "outputs": [],
   "source": []
  },
  {
   "cell_type": "code",
   "execution_count": 90,
   "metadata": {},
   "outputs": [],
   "source": [
    "scalar = MinMaxScaler(feature_range=(0, 1))\n",
    "X_train = scalar.fit_transform(X_train)\n",
    "X_test = scalar.fit_transform(X_test)"
   ]
  },
  {
   "cell_type": "code",
   "execution_count": 91,
   "metadata": {},
   "outputs": [],
   "source": [
    "X_train = np.reshape(X_train, (X_train.shape[0], X_train.shape[1]))\n",
    "X_test = np.reshape(X_test, (X_test.shape[0], X_test.shape[1]))"
   ]
  },
  {
   "cell_type": "code",
   "execution_count": 86,
   "metadata": {},
   "outputs": [],
   "source": [
    "model = Sequential()\n",
    "\n",
    "#input layer\n",
    "model.add(LSTM(200, return_sequences=True, input_shape=(X_train.shape[1], 1)))\n",
    "model.add(Dropout(0.2))\n",
    "\n",
    "#hidden layer\n",
    "model.add(LSTM(200, return_sequences=True))\n",
    "model.add(Dropout(0.2))\n",
    "\n",
    "# #hidden layer\n",
    "model.add(LSTM(200, return_sequences=True))\n",
    "model.add(Dropout(0.2))\n",
    "\n",
    "# #hidden layer\n",
    "model.add(LSTM(200, return_sequences=True))\n",
    "model.add(Dropout(0.2))\n",
    "\n",
    "# #hidden layer\n",
    "model.add(LSTM(200, return_sequences=True))\n",
    "model.add(Dropout(0.2))\n",
    "\n",
    "# hidden layer\n",
    "model.add(LSTM(200))\n",
    "model.add(Dropout(0.2))\n",
    "\n",
    "# output layer\n",
    "model.add(Dense(1))"
   ]
  },
  {
   "cell_type": "code",
   "execution_count": 87,
   "metadata": {},
   "outputs": [
    {
     "name": "stdout",
     "output_type": "stream",
     "text": [
      "Model: \"sequential_9\"\n",
      "_________________________________________________________________\n",
      "Layer (type)                 Output Shape              Param #   \n",
      "=================================================================\n",
      "lstm_54 (LSTM)               (None, 2, 200)            161600    \n",
      "_________________________________________________________________\n",
      "dropout_54 (Dropout)         (None, 2, 200)            0         \n",
      "_________________________________________________________________\n",
      "lstm_55 (LSTM)               (None, 2, 200)            320800    \n",
      "_________________________________________________________________\n",
      "dropout_55 (Dropout)         (None, 2, 200)            0         \n",
      "_________________________________________________________________\n",
      "lstm_56 (LSTM)               (None, 2, 200)            320800    \n",
      "_________________________________________________________________\n",
      "dropout_56 (Dropout)         (None, 2, 200)            0         \n",
      "_________________________________________________________________\n",
      "lstm_57 (LSTM)               (None, 2, 200)            320800    \n",
      "_________________________________________________________________\n",
      "dropout_57 (Dropout)         (None, 2, 200)            0         \n",
      "_________________________________________________________________\n",
      "lstm_58 (LSTM)               (None, 2, 200)            320800    \n",
      "_________________________________________________________________\n",
      "dropout_58 (Dropout)         (None, 2, 200)            0         \n",
      "_________________________________________________________________\n",
      "lstm_59 (LSTM)               (None, 200)               320800    \n",
      "_________________________________________________________________\n",
      "dropout_59 (Dropout)         (None, 200)               0         \n",
      "_________________________________________________________________\n",
      "dense_9 (Dense)              (None, 1)                 201       \n",
      "=================================================================\n",
      "Total params: 1,765,801\n",
      "Trainable params: 1,765,801\n",
      "Non-trainable params: 0\n",
      "_________________________________________________________________\n",
      "None\n"
     ]
    }
   ],
   "source": [
    "model.compile(optimizer='adam', loss='mean_squared_error', metrics=['mae', 'mape'])\n",
    "print(model.summary())"
   ]
  },
  {
   "cell_type": "code",
   "execution_count": null,
   "metadata": {},
   "outputs": [],
   "source": [
    "model.fit(X_train, y_train, validation_data=(X_test, y_test), epochs=100, shuffle=True, batch_size=32)"
   ]
  },
  {
   "cell_type": "code",
   "execution_count": null,
   "metadata": {},
   "outputs": [],
   "source": [
    "model_loss = model.evaluate(X_test, y_test, verbose=2) #verbose=0\n",
    "print(model_loss)"
   ]
  }
 ],
 "metadata": {
  "kernelspec": {
   "display_name": "Python 3",
   "language": "python",
   "name": "python3"
  },
  "language_info": {
   "codemirror_mode": {
    "name": "ipython",
    "version": 3
   },
   "file_extension": ".py",
   "mimetype": "text/x-python",
   "name": "python",
   "nbconvert_exporter": "python",
   "pygments_lexer": "ipython3",
   "version": "3.7.5"
  }
 },
 "nbformat": 4,
 "nbformat_minor": 4
}
