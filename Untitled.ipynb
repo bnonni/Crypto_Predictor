{
 "cells": [
  {
   "cell_type": "code",
   "execution_count": null,
   "metadata": {},
   "outputs": [],
   "source": [
    "NN_results = {\n",
    "    'High': [0.66, ],\n",
    "    'Low': [0.47, ],\n",
    "    'Volumes': [0,],\n",
    "    'RSI': [0,],\n",
    "    'ADL': [0,],\n",
    "    'OBV' : [],\n",
    "    'ADL Slope' : [],\n",
    "    'OBV Slope' : []\n",
    "}"
   ]
  },
  {
   "cell_type": "code",
   "execution_count": null,
   "metadata": {},
   "outputs": [],
   "source": []
  }
 ],
 "metadata": {
  "kernelspec": {
   "display_name": "Python 3",
   "language": "python",
   "name": "python3"
  },
  "language_info": {
   "codemirror_mode": {
    "name": "ipython",
    "version": 3
   },
   "file_extension": ".py",
   "mimetype": "text/x-python",
   "name": "python",
   "nbconvert_exporter": "python",
   "pygments_lexer": "ipython3",
   "version": "3.7.5"
  }
 },
 "nbformat": 4,
 "nbformat_minor": 4
}
